{
 "cells": [
  {
   "cell_type": "code",
   "execution_count": 2,
   "metadata": {},
   "outputs": [
    {
     "name": "stderr",
     "output_type": "stream",
     "text": [
      "C:\\Users\\Alexander Dueñas\\AppData\\Local\\Temp\\ipykernel_12732\\3257948543.py:17: DeprecatedFeatureWarning: username is deprecated, use user.username instead\n",
      "  tweets.append([tweet.date, tweet.conversationId,  tweet.username, tweet.content])\n",
      "C:\\Users\\Alexander Dueñas\\AppData\\Local\\Temp\\ipykernel_12732\\3257948543.py:17: DeprecatedFeatureWarning: content is deprecated, use rawContent instead\n",
      "  tweets.append([tweet.date, tweet.conversationId,  tweet.username, tweet.content])\n"
     ]
    }
   ],
   "source": [
    "import snscrape.modules.twitter as sntwitter\n",
    "import pandas as pd\n",
    "\n",
    "# search_query = \"(from:@BancoPichincha) until:2022-12-31 since:2022-01-01\"\n",
    "# search_query = \"(from:@BancoPichincha) until:2023-03-31 since:2023-01-01\"\n",
    "search_query = \"(from:@BancoPichincha) until:2023-01-10 since:2023-01-01\"\n",
    "tweets = []\n",
    "tweet_limit = 35\n",
    "\n",
    "\"\"\" for tweet in sntwitter.TwitterSearchScraper(search_query).get_items():\n",
    "    if len(tweets) == tweet_limit:\n",
    "        break\n",
    "    else:\n",
    "        tweets.append([tweet.date, tweet.username, tweet.content]) \"\"\"\n",
    "\n",
    "for tweet in sntwitter.TwitterSearchScraper(search_query).get_items():\n",
    "    tweets.append([tweet.date, tweet.conversationId,  tweet.username, tweet.content])\n",
    "        \n",
    "df = pd.DataFrame(tweets, columns=['Date', 'Conversation ID', 'User', 'Tweet'])\n",
    "\n",
    "df.to_csv('cadenatweetsBancoPichincha2023.csv')"
   ]
  }
 ],
 "metadata": {
  "kernelspec": {
   "display_name": "Python 3",
   "language": "python",
   "name": "python3"
  },
  "language_info": {
   "codemirror_mode": {
    "name": "ipython",
    "version": 3
   },
   "file_extension": ".py",
   "mimetype": "text/x-python",
   "name": "python",
   "nbconvert_exporter": "python",
   "pygments_lexer": "ipython3",
   "version": "3.10.10"
  },
  "orig_nbformat": 4,
  "vscode": {
   "interpreter": {
    "hash": "dccfcb9212a532c931437bf04fa1b284db65ecb3d40d647f01fad33d57536df4"
   }
  }
 },
 "nbformat": 4,
 "nbformat_minor": 2
}
