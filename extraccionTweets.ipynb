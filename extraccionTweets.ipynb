{
 "cells": [
  {
   "cell_type": "code",
   "execution_count": 1,
   "metadata": {},
   "outputs": [],
   "source": [
    "#!pip install twint\n",
    "#!pip install nest_asyncio\n",
    "\n",
    "import twint\n",
    "import nest_asyncio\n",
    "\n",
    "nest_asyncio.apply()\n",
    "c = twint.Config()\n",
    "c.Search = \"eurocopa\"\n",
    "c.Lang = \"es\""
   ]
  }
 ],
 "metadata": {
  "kernelspec": {
   "display_name": "Python 3",
   "language": "python",
   "name": "python3"
  },
  "language_info": {
   "codemirror_mode": {
    "name": "ipython",
    "version": 3
   },
   "file_extension": ".py",
   "mimetype": "text/x-python",
   "name": "python",
   "nbconvert_exporter": "python",
   "pygments_lexer": "ipython3",
   "version": "3.10.5"
  },
  "orig_nbformat": 4,
  "vscode": {
   "interpreter": {
    "hash": "dccfcb9212a532c931437bf04fa1b284db65ecb3d40d647f01fad33d57536df4"
   }
  }
 },
 "nbformat": 4,
 "nbformat_minor": 2
}
