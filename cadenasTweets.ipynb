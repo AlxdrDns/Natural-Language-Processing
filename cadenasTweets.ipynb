{
 "cells": [
  {
   "cell_type": "code",
   "execution_count": 12,
   "metadata": {},
   "outputs": [],
   "source": [
    "import snscrape.modules.twitter as sntwitter"
   ]
  },
  {
   "cell_type": "code",
   "execution_count": 16,
   "metadata": {},
   "outputs": [],
   "source": [
    "mode = sntwitter.TwitterTweetScraperMode\n",
    "sncraper_reply = sntwitter.TwitterTweetScraper(tweetId=1552814045354409985, mode=mode.SCROLL)"
   ]
  },
  {
   "cell_type": "code",
   "execution_count": 17,
   "metadata": {},
   "outputs": [
    {
     "name": "stderr",
     "output_type": "stream",
     "text": [
      "Skipping unrecognised entry ID: 'label-7670557991500365297'\n"
     ]
    },
    {
     "name": "stdout",
     "output_type": "stream",
     "text": [
      "Inflation might be trending down\n",
      "More Tesla commodity prices are trending down than up fwiw\n",
      "@elonmusk Are prices for a tesla going to increase\n",
      "@teslaownersSV Too early to say for sure\n",
      "@elonmusk The pandemic first year was a real shock to the system.\n",
      "@elonmusk Major commodity spot prices since the start of June. https://t.co/Z72nwsqPBy\n",
      "@PrestonPysh @elonmusk I see the supply bottleneck being more in finished goods than commodities. \n",
      "\n",
      "Things like chips delaying manufacturing would actually *hurt* demand for commodities while raising the price of finished goods as rich people with low time preference pay up for scarce goods.\n",
      "@elonmusk Do you have any idea when are we getting the Model S and Model X in Europe? 🥹🥹🥹🥹\n",
      "@elonmusk Nice\n",
      "@elonmusk Have you considered selling feet pics??\n",
      "@elonmusk 40% gross margins?!?!? https://t.co/MBpKESOYGb\n",
      "@tslatalk @elonmusk So I'm not stock lady. Yet i pay attention. From my POV and Mia 4yrs. But margins seem to increase no matter. Bears u call them. There around more than u think. Seminars on Tesla per state like this would benefit. Teslaworld????\n",
      "@elonmusk That's good to hear!\n",
      "@elonmusk Let’s see what happens over the next two years.  Complaining about these prices doesn’t inspire resource investment. Nor does raising interest rates. High prices are the only cure…as they leads to over investment. We are very far from that…very far\n",
      "@elonmusk https://t.co/muk1f8zd9X\n",
      "@elonmusk How about your metals?\n",
      "They going down?\n",
      "@elonmusk Stockpile.\n",
      "@elonmusk could that come from better supply and improvements of the supply chain?\n",
      "@elonmusk #Saitama\n",
      "@elonmusk We ready to go to the top https://t.co/LHfRxGScWa\n"
     ]
    },
    {
     "name": "stderr",
     "output_type": "stream",
     "text": [
      "C:\\Users\\Alexander Dueñas\\AppData\\Local\\Temp\\ipykernel_14404\\4270205360.py:4: DeprecatedFeatureWarning: content is deprecated, use rawContent instead\n",
      "  print(tweet.content)\n"
     ]
    },
    {
     "ename": "AttributeError",
     "evalue": "'Tombstone' object has no attribute 'content'",
     "output_type": "error",
     "traceback": [
      "\u001b[1;31m---------------------------------------------------------------------------\u001b[0m",
      "\u001b[1;31mAttributeError\u001b[0m                            Traceback (most recent call last)",
      "\u001b[1;32mc:\\Users\\Alexander Dueñas\\Documents\\GitHub\\Natural-Language-Processing\\cadenasTweets.ipynb Cell 3\u001b[0m in \u001b[0;36m<cell line: 3>\u001b[1;34m()\u001b[0m\n\u001b[0;32m      <a href='vscode-notebook-cell:/c%3A/Users/Alexander%20Due%C3%B1as/Documents/GitHub/Natural-Language-Processing/cadenasTweets.ipynb#W2sZmlsZQ%3D%3D?line=1'>2</a>\u001b[0m number_of_replies \u001b[39m=\u001b[39m \u001b[39msum\u001b[39m(\u001b[39m1\u001b[39m \u001b[39mfor\u001b[39;00m _ \u001b[39min\u001b[39;00m replies)\n\u001b[0;32m      <a href='vscode-notebook-cell:/c%3A/Users/Alexander%20Due%C3%B1as/Documents/GitHub/Natural-Language-Processing/cadenasTweets.ipynb#W2sZmlsZQ%3D%3D?line=2'>3</a>\u001b[0m \u001b[39mfor\u001b[39;00m tweet \u001b[39min\u001b[39;00m replies:\n\u001b[1;32m----> <a href='vscode-notebook-cell:/c%3A/Users/Alexander%20Due%C3%B1as/Documents/GitHub/Natural-Language-Processing/cadenasTweets.ipynb#W2sZmlsZQ%3D%3D?line=3'>4</a>\u001b[0m     \u001b[39mprint\u001b[39m(tweet\u001b[39m.\u001b[39;49mcontent)\n",
      "\u001b[1;31mAttributeError\u001b[0m: 'Tombstone' object has no attribute 'content'"
     ]
    }
   ],
   "source": [
    "replies = replies = list(sncraper_reply.get_items())\n",
    "number_of_replies = sum(1 for _ in replies)\n",
    "for tweet in replies:\n",
    "    print(tweet.content)"
   ]
  },
  {
   "cell_type": "code",
   "execution_count": 15,
   "metadata": {},
   "outputs": [
    {
     "name": "stdout",
     "output_type": "stream",
     "text": [
      "0\n"
     ]
    }
   ],
   "source": [
    "print(number_of_replies)"
   ]
  }
 ],
 "metadata": {
  "kernelspec": {
   "display_name": "Python 3",
   "language": "python",
   "name": "python3"
  },
  "language_info": {
   "codemirror_mode": {
    "name": "ipython",
    "version": 3
   },
   "file_extension": ".py",
   "mimetype": "text/x-python",
   "name": "python",
   "nbconvert_exporter": "python",
   "pygments_lexer": "ipython3",
   "version": "3.10.10"
  },
  "orig_nbformat": 4
 },
 "nbformat": 4,
 "nbformat_minor": 2
}
