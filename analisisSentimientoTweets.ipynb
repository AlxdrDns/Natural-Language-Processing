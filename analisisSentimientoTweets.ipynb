{
 "cells": [
  {
   "cell_type": "code",
   "execution_count": null,
   "metadata": {},
   "outputs": [],
   "source": [
    "import nltk\n",
    "nltk.download('punkt')\n",
    "nltk.download('averaged_perceptron_tagger')"
   ]
  },
  {
   "cell_type": "code",
   "execution_count": 28,
   "metadata": {},
   "outputs": [],
   "source": [
    "import pandas as pd\n",
    "\n",
    "df = pd.read_csv('tweetsUsuariosBancoPichincha.csv')"
   ]
  },
  {
   "cell_type": "code",
   "execution_count": 37,
   "metadata": {},
   "outputs": [
    {
     "name": "stdout",
     "output_type": "stream",
     "text": [
      "X 2nd Occasion in less than a month @Bancopichincha does not deliver the changes in the @Superbancosec deposit are already 5.50 that the bank does not return to its customers https://t.co/da3eybeofy\n"
     ]
    }
   ],
   "source": [
    "from textblob import TextBlob\n",
    "\n",
    "traducido = TextBlob(df['Tweet'][0]).translate(from_lang=\"es\", to=\"en\")\n",
    "print(traducido)"
   ]
  },
  {
   "cell_type": "code",
   "execution_count": 39,
   "metadata": {},
   "outputs": [
    {
     "name": "stdout",
     "output_type": "stream",
     "text": [
      "Sentiment(polarity=-0.08333333333333333, subjectivity=0.03333333333333333)\n",
      "[('2nd', 'CD'), ('Occasion', 'NNP'), ('in', 'IN'), ('less', 'JJR'), ('than', 'IN'), ('a', 'DT'), ('month', 'NN'), ('@', 'FW'), ('Bancopichincha', 'NNP'), ('does', 'VBZ'), ('not', 'RB'), ('deliver', 'VB'), ('the', 'DT'), ('changes', 'NNS'), ('in', 'IN'), ('the', 'DT'), ('@', 'NNP'), ('Superbancosec', 'NNP'), ('deposit', 'NN'), ('are', 'VBP'), ('already', 'RB'), ('5.50', 'CD'), ('that', 'IN'), ('the', 'DT'), ('bank', 'NN'), ('does', 'VBZ'), ('not', 'RB'), ('return', 'VB'), ('to', 'TO'), ('its', 'PRP$'), ('customers', 'NNS'), ('https', 'NN'), ('//t.co/da3eybeofy', 'NN')]\n"
     ]
    }
   ],
   "source": [
    "analysis = TextBlob(str(traducido))\n",
    "\n",
    "print(analysis.sentiment)\n",
    "\n",
    "print(analysis.tags)"
   ]
  },
  {
   "cell_type": "code",
   "execution_count": 26,
   "metadata": {},
   "outputs": [
    {
     "name": "stdout",
     "output_type": "stream",
     "text": [
      "Sentiment(polarity=-0.7999999999999999, subjectivity=1.0)\n",
      "[('You', 'PRP'), (\"'re\", 'VBP'), ('stupid', 'JJ')]\n"
     ]
    }
   ],
   "source": [
    "from textblob import TextBlob\n",
    "import nltk.data\n",
    " \n",
    "#para = \"Hola amigos. Gracias por ver este video. Saludos\"\n",
    "#tokenizer = nltk.data.load('tokenizers/punkt/spanish.pickle')\n",
    "#print(tokenizer.tokenize(para))\n",
    "\n",
    "analysis = TextBlob(\"Tú eres un estupido\")\n",
    "\n",
    "ingles = str(analysis.translate(from_lang=\"es\", to=\"en\"))\n",
    "\n",
    "textoTraducido = TextBlob(ingles)\n",
    "\n",
    "print(textoTraducido.sentiment)\n",
    "\n",
    "print(textoTraducido.tags)"
   ]
  }
 ],
 "metadata": {
  "kernelspec": {
   "display_name": "Python 3",
   "language": "python",
   "name": "python3"
  },
  "language_info": {
   "codemirror_mode": {
    "name": "ipython",
    "version": 3
   },
   "file_extension": ".py",
   "mimetype": "text/x-python",
   "name": "python",
   "nbconvert_exporter": "python",
   "pygments_lexer": "ipython3",
   "version": "3.10.10"
  },
  "orig_nbformat": 4
 },
 "nbformat": 4,
 "nbformat_minor": 2
}
